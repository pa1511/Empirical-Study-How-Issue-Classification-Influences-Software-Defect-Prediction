{
 "cells": [
  {
   "cell_type": "markdown",
   "id": "f28b6515",
   "metadata": {},
   "source": [
    "## Imports"
   ]
  },
  {
   "cell_type": "code",
   "execution_count": null,
   "id": "b14f430e",
   "metadata": {},
   "outputs": [],
   "source": [
    "import os\n",
    "import jsonpickle\n",
    "import matplotlib.pyplot as plt"
   ]
  },
  {
   "cell_type": "markdown",
   "id": "03e13d9a",
   "metadata": {},
   "source": [
    "## Constants"
   ]
  },
  {
   "cell_type": "code",
   "execution_count": null,
   "id": "97fb9159",
   "metadata": {},
   "outputs": [],
   "source": [
    "DATA_FOLDER = \"./../data/\""
   ]
  },
  {
   "cell_type": "code",
   "execution_count": null,
   "id": "33bff6db",
   "metadata": {},
   "outputs": [],
   "source": [
    "ISSUE_DATA_FILE = \"issue-data.json\""
   ]
  },
  {
   "cell_type": "code",
   "execution_count": null,
   "id": "fe20dc11",
   "metadata": {},
   "outputs": [],
   "source": [
    "REPO_TO_ID_FILE = \"repo_to_id.json\""
   ]
  },
  {
   "cell_type": "markdown",
   "id": "968f4cbc",
   "metadata": {},
   "source": [
    "## Load data"
   ]
  },
  {
   "cell_type": "code",
   "execution_count": null,
   "id": "68d09ccb",
   "metadata": {},
   "outputs": [],
   "source": [
    "with open(os.path.join(DATA_FOLDER, ISSUE_DATA_FILE)) as f_in:\n",
    "    for line in f_in:\n",
    "          data = jsonpickle.decode(line)"
   ]
  },
  {
   "cell_type": "code",
   "execution_count": null,
   "id": "7da925c6",
   "metadata": {},
   "outputs": [],
   "source": [
    "REPO_TO_ID = {}"
   ]
  },
  {
   "cell_type": "code",
   "execution_count": null,
   "id": "6b1ddd41",
   "metadata": {},
   "outputs": [],
   "source": [
    "with open(os.path.join(DATA_FOLDER, REPO_TO_ID_FILE)) as f_in:\n",
    "    for line in f_in:\n",
    "        REPO_TO_ID = jsonpickle.decode(line)"
   ]
  },
  {
   "cell_type": "markdown",
   "id": "ad482f91",
   "metadata": {},
   "source": [
    "## View repo languages"
   ]
  },
  {
   "cell_type": "code",
   "execution_count": null,
   "id": "a1951bbb",
   "metadata": {},
   "outputs": [],
   "source": [
    "for repo in data:\n",
    "    if repo[\"name\"] in REPO_TO_ID:\n",
    "        print(repo[\"name\"])"
   ]
  },
  {
   "cell_type": "code",
   "execution_count": null,
   "id": "13d82824",
   "metadata": {},
   "outputs": [],
   "source": [
    "lang_cnt = {}\n",
    "for repo in data:\n",
    "    if repo[\"name\"] in REPO_TO_ID:\n",
    "        lang = repo[\"language\"]\n",
    "        print(f\"{repo['name']} \\t => {repo['language']}\")\n",
    "        if lang not in lang_cnt:\n",
    "            lang_cnt[lang] = 0\n",
    "        lang_cnt[lang] = lang_cnt[lang] + 1"
   ]
  },
  {
   "cell_type": "code",
   "execution_count": null,
   "id": "91effb9e",
   "metadata": {},
   "outputs": [],
   "source": [
    "# Pie chart, where the slices will be ordered and plotted counter-clockwise:\n",
    "labels = [lang for lang in lang_cnt]\n",
    "sizes = [lang_cnt[lang] for lang in lang_cnt]\n",
    "\n",
    "fig1, ax1 = plt.subplots(figsize=(12,9))\n",
    "ax1.pie(sizes, labels=labels, autopct='%1.1f%%', startangle=90, textprops={'fontsize': 28})\n",
    "ax1.axis('equal')\n",
    "plt.savefig(\"languages.pdf\")\n",
    "plt.show()"
   ]
  },
  {
   "cell_type": "code",
   "execution_count": null,
   "id": "78371968",
   "metadata": {},
   "outputs": [],
   "source": []
  }
 ],
 "metadata": {
  "kernelspec": {
   "display_name": "Python 3",
   "language": "python",
   "name": "python3"
  },
  "language_info": {
   "codemirror_mode": {
    "name": "ipython",
    "version": 3
   },
   "file_extension": ".py",
   "mimetype": "text/x-python",
   "name": "python",
   "nbconvert_exporter": "python",
   "pygments_lexer": "ipython3",
   "version": "3.8.10"
  }
 },
 "nbformat": 4,
 "nbformat_minor": 5
}
