{
 "cells": [
  {
   "cell_type": "markdown",
   "id": "ed617c0f",
   "metadata": {},
   "source": [
    "## Imports"
   ]
  },
  {
   "cell_type": "code",
   "execution_count": null,
   "id": "a7549604",
   "metadata": {},
   "outputs": [],
   "source": [
    "import os\n",
    "import math\n",
    "import jsonpickle"
   ]
  },
  {
   "cell_type": "code",
   "execution_count": null,
   "id": "a3ce779a",
   "metadata": {},
   "outputs": [],
   "source": [
    "from nltk.stem.snowball import SnowballStemmer"
   ]
  },
  {
   "cell_type": "code",
   "execution_count": null,
   "id": "706273d1",
   "metadata": {},
   "outputs": [],
   "source": [
    "from wordcloud import WordCloud, STOPWORDS\n",
    "import matplotlib.pyplot as plt"
   ]
  },
  {
   "cell_type": "markdown",
   "id": "5d3380d8",
   "metadata": {},
   "source": [
    "## Constants"
   ]
  },
  {
   "cell_type": "code",
   "execution_count": null,
   "id": "a5b7244d",
   "metadata": {},
   "outputs": [],
   "source": [
    "DATA_FOLDER = \"../data/\""
   ]
  },
  {
   "cell_type": "code",
   "execution_count": null,
   "id": "70df09a5",
   "metadata": {},
   "outputs": [],
   "source": [
    "LABELED_ISSUES_FILE_KEY = \"labeled_issues_of_interest_\""
   ]
  },
  {
   "cell_type": "markdown",
   "id": "21b3d4e2",
   "metadata": {},
   "source": [
    "## Load data"
   ]
  },
  {
   "cell_type": "code",
   "execution_count": null,
   "id": "458a0ef3",
   "metadata": {},
   "outputs": [],
   "source": [
    "REPO_TO_ID = {}"
   ]
  },
  {
   "cell_type": "code",
   "execution_count": null,
   "id": "0a2f108c",
   "metadata": {},
   "outputs": [],
   "source": [
    "# Load labeled issues\n",
    "labeled_issues_of_interest_data = {}\n",
    "for file in os.listdir(DATA_FOLDER):\n",
    "    if LABELED_ISSUES_FILE_KEY in file:\n",
    "        repoId = file.replace(LABELED_ISSUES_FILE_KEY, \"\").replace(\".json\", \"\")\n",
    "        with open(os.path.join(DATA_FOLDER, file), \"r\") as f_in:\n",
    "            for line in f_in:\n",
    "                repo_labeled_issues = jsonpickle.decode(line)\n",
    "        for repo in repo_labeled_issues:\n",
    "            REPO_TO_ID[repo] = repoId\n",
    "        labeled_issues_of_interest_data.update(repo_labeled_issues)\n",
    "#===\n",
    "for repo in labeled_issues_of_interest_data:\n",
    "    if \"list\" in str(type(labeled_issues_of_interest_data[repo])):\n",
    "        adjusted_labeled_issues_of_interest = {}\n",
    "        for issue in labeled_issues_of_interest_data[repo]:\n",
    "            if issue is not None:\n",
    "                adjusted_labeled_issues_of_interest[str(issue[\"number\"])] = issue\n",
    "        labeled_issues_of_interest_data[repo] = adjusted_labeled_issues_of_interest"
   ]
  },
  {
   "cell_type": "code",
   "execution_count": null,
   "id": "c69c8305",
   "metadata": {},
   "outputs": [],
   "source": [
    "print(\"Repo cnt:\", len(labeled_issues_of_interest_data))"
   ]
  },
  {
   "cell_type": "code",
   "execution_count": null,
   "id": "953964fc",
   "metadata": {},
   "outputs": [],
   "source": [
    "issue_cnt = 0\n",
    "for repoId in labeled_issues_of_interest_data:\n",
    "    repo = labeled_issues_of_interest_data[repoId]\n",
    "    issue_cnt = issue_cnt + len(repo)\n",
    "print(\"Final issue cnt:\", issue_cnt)"
   ]
  },
  {
   "cell_type": "markdown",
   "id": "9ed8800a",
   "metadata": {},
   "source": [
    "## Discover important words"
   ]
  },
  {
   "cell_type": "code",
   "execution_count": null,
   "id": "a822d016",
   "metadata": {},
   "outputs": [],
   "source": [
    "stemmer = SnowballStemmer(language='english')"
   ]
  },
  {
   "cell_type": "code",
   "execution_count": null,
   "id": "6039c452",
   "metadata": {},
   "outputs": [],
   "source": [
    "bug_word_cnts = { }\n",
    "other_word_cnts = { }\n",
    "#\n",
    "bug_cnt = 0\n",
    "other_cnt = 0\n",
    "#\n",
    "for repo in labeled_issues_of_interest_data:\n",
    "    for issueId in labeled_issues_of_interest_data[repo]:\n",
    "        issue = labeled_issues_of_interest_data[repo][issueId]\n",
    "        #\n",
    "        if issue is None or \"type\" not in issue or issue[\"type\"] is None:\n",
    "            continue\n",
    "        #\n",
    "        title = issue[\"title\"]\n",
    "        description = issue[\"body\"]\n",
    "        text = title if title is not None else \"\"\n",
    "        text = text + \" \"\n",
    "        text = text + (description if description is not None else \"\")\n",
    "        #\n",
    "        words = set(text.split())\n",
    "        words = set([word.replace(\".\",\"\").replace(\",\",\"\").lower() for word in words])\n",
    "        #\n",
    "        for word in words:\n",
    "            if len(word)<3 or not word.replace(\"'\",\"\").isalpha():\n",
    "                continue\n",
    "            word = stemmer.stem(word)\n",
    "            cnt = text.count(word)\n",
    "            if cnt > 0:\n",
    "                if issue[\"type\"]==\"Bug\":\n",
    "                    if word not in bug_word_cnts:\n",
    "                        bug_word_cnts[word] = (0, 0)\n",
    "                    tc, dc = bug_word_cnts[word]\n",
    "                    tc = tc + cnt\n",
    "                    dc = dc + 1\n",
    "                    bug_word_cnts[word] = (tc, dc)\n",
    "                else:\n",
    "                    if word not in other_word_cnts:\n",
    "                        other_word_cnts[word] = (0, 0)\n",
    "                    tc, dc = other_word_cnts[word]\n",
    "                    tc = tc + cnt\n",
    "                    dc = dc + 1\n",
    "                    other_word_cnts[word] = (tc, dc)\n",
    "        #\n",
    "        if issue[\"type\"]==\"Bug\":\n",
    "            bug_cnt = bug_cnt + 1\n",
    "        else:\n",
    "            other_cnt = other_cnt + 1"
   ]
  },
  {
   "cell_type": "code",
   "execution_count": null,
   "id": "c525375f",
   "metadata": {},
   "outputs": [],
   "source": [
    "for word in bug_word_cnts:\n",
    "    tc, dc = bug_word_cnts[word]\n",
    "    bug_word_cnts[word] = math.log(tc/dc)*(dc/bug_cnt)\n",
    "#\n",
    "for word in other_word_cnts:\n",
    "    tc, dc = other_word_cnts[word]\n",
    "    other_word_cnts[word] = math.log(tc/dc)*(dc/other_cnt)"
   ]
  },
  {
   "cell_type": "code",
   "execution_count": null,
   "id": "d61fba2a",
   "metadata": {},
   "outputs": [],
   "source": [
    "for word in bug_word_cnts:\n",
    "    if word in other_word_cnts:\n",
    "        bug_word_cnts[word] = bug_word_cnts[word] - other_word_cnts[word]"
   ]
  },
  {
   "cell_type": "code",
   "execution_count": null,
   "id": "17bb301a",
   "metadata": {},
   "outputs": [],
   "source": [
    "bug_word_cnts = [(bug_word_cnts[word],word) for word in bug_word_cnts]"
   ]
  },
  {
   "cell_type": "code",
   "execution_count": null,
   "id": "b509a5b6",
   "metadata": {},
   "outputs": [],
   "source": [
    "bug_word_cnts.sort()\n",
    "bug_word_cnts.reverse()"
   ]
  },
  {
   "cell_type": "code",
   "execution_count": null,
   "id": "13679a7b",
   "metadata": {
    "scrolled": true
   },
   "outputs": [],
   "source": [
    "for i, entry in enumerate(bug_word_cnts):\n",
    "    print(i, \"==>\", entry)"
   ]
  },
  {
   "cell_type": "code",
   "execution_count": null,
   "id": "b9e929f4",
   "metadata": {},
   "outputs": [],
   "source": [
    "WORDS_TO_TAKE = 75\n",
    "important_bug_words = set([entry[1] for entry in bug_word_cnts][:WORDS_TO_TAKE])\n",
    "important_other_words = set([entry[1] for entry in reversed(bug_word_cnts)][:WORDS_TO_TAKE])"
   ]
  },
  {
   "cell_type": "code",
   "execution_count": null,
   "id": "4fd1406a",
   "metadata": {},
   "outputs": [],
   "source": [
    "print(important_bug_words)"
   ]
  },
  {
   "cell_type": "code",
   "execution_count": null,
   "id": "c226e02c",
   "metadata": {},
   "outputs": [],
   "source": [
    "print(important_other_words)"
   ]
  },
  {
   "cell_type": "markdown",
   "id": "75da838f",
   "metadata": {},
   "source": [
    "## Visualize words"
   ]
  },
  {
   "cell_type": "code",
   "execution_count": null,
   "id": "1437da31",
   "metadata": {},
   "outputs": [],
   "source": [
    "bug_texts = \"\"\n",
    "other_texts = \"\"\n",
    "for repo in labeled_issues_of_interest_data:\n",
    "    for issueId in labeled_issues_of_interest_data[repo]:\n",
    "        issue = labeled_issues_of_interest_data[repo][issueId]\n",
    "        #\n",
    "        if issue is None or \"type\" not in issue or issue[\"type\"] is None:\n",
    "            continue\n",
    "        #\n",
    "        title = issue[\"title\"]\n",
    "        description = issue[\"body\"]\n",
    "        text = title if title is not None else \"\"\n",
    "        text = text + \" \"\n",
    "        text = text + (description if description is not None else \"\")\n",
    "        #\n",
    "        if issue[\"type\"]==\"Bug\":\n",
    "            text = \" \".join([word.strip() for word in text.split() if word in important_bug_words]) \n",
    "            bug_texts = bug_texts + text + \"\\n\"\n",
    "        else:\n",
    "            text = \" \".join([word.strip() for word in text.split() if word in important_other_words]) \n",
    "            other_texts = other_texts + text + \"\\n\""
   ]
  },
  {
   "cell_type": "code",
   "execution_count": null,
   "id": "583fe1af",
   "metadata": {},
   "outputs": [],
   "source": [
    "stopwords = set(STOPWORDS)"
   ]
  },
  {
   "cell_type": "code",
   "execution_count": null,
   "id": "32f82b58",
   "metadata": {},
   "outputs": [],
   "source": [
    "# Generate a word cloud image\n",
    "wordcloud = WordCloud(stopwords=stopwords, background_color=\"white\", collocations=False, colormap=\"Reds\").generate(bug_texts)\n",
    "\n",
    "# Display the generated image:\n",
    "plt.figure(figsize=(12, 9))\n",
    "plt.imshow(wordcloud, interpolation='bilinear')\n",
    "plt.axis(\"off\")\n",
    "plt.savefig(\"negative_words.pdf\")\n",
    "plt.show()"
   ]
  },
  {
   "cell_type": "code",
   "execution_count": null,
   "id": "281235e1",
   "metadata": {},
   "outputs": [],
   "source": [
    "# Generate a word cloud image\n",
    "wordcloud = WordCloud(stopwords=stopwords, background_color=\"white\", collocations=False).generate(other_texts)\n",
    "\n",
    "# Display the generated image:\n",
    "plt.figure(figsize=(12, 9))\n",
    "plt.imshow(wordcloud, interpolation='bilinear')\n",
    "plt.axis(\"off\")\n",
    "plt.savefig(\"positive_words.pdf\")\n",
    "plt.show()"
   ]
  },
  {
   "cell_type": "code",
   "execution_count": null,
   "id": "8118aa12",
   "metadata": {},
   "outputs": [],
   "source": []
  }
 ],
 "metadata": {
  "kernelspec": {
   "display_name": "Python 3",
   "language": "python",
   "name": "python3"
  },
  "language_info": {
   "codemirror_mode": {
    "name": "ipython",
    "version": 3
   },
   "file_extension": ".py",
   "mimetype": "text/x-python",
   "name": "python",
   "nbconvert_exporter": "python",
   "pygments_lexer": "ipython3",
   "version": "3.8.10"
  }
 },
 "nbformat": 4,
 "nbformat_minor": 5
}
