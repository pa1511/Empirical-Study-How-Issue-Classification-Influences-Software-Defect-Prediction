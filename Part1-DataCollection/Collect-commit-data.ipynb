{
 "cells": [
  {
   "cell_type": "markdown",
   "id": "a06dce98",
   "metadata": {},
   "source": [
    "## Imports"
   ]
  },
  {
   "cell_type": "code",
   "execution_count": null,
   "id": "225a7114",
   "metadata": {},
   "outputs": [],
   "source": [
    "import time\n",
    "import base64\n",
    "import jsonpickle\n",
    "from github import Github"
   ]
  },
  {
   "cell_type": "markdown",
   "id": "094523cc",
   "metadata": {},
   "source": [
    "## Constants"
   ]
  },
  {
   "cell_type": "code",
   "execution_count": null,
   "id": "dc586f35",
   "metadata": {},
   "outputs": [],
   "source": [
    "ISSUE_DATA_FILE = \"../data/issue-data.json\""
   ]
  },
  {
   "cell_type": "code",
   "execution_count": null,
   "id": "4870cade",
   "metadata": {},
   "outputs": [],
   "source": [
    "LANGUAGES = set([\"Python\", \"Java\", \"JavaScript\", \"PHP\", \"Ruby\", \"Go\"])\n",
    "FILE_EXTENSIONS = set([\".py\", \".java\", \".js\", \".php\", \".rb\", \".go\"])"
   ]
  },
  {
   "cell_type": "code",
   "execution_count": null,
   "id": "ac7f54ea",
   "metadata": {},
   "outputs": [],
   "source": [
    "COMMIT_PRINT_FREQ = 10"
   ]
  },
  {
   "cell_type": "markdown",
   "id": "cfb2aa48",
   "metadata": {},
   "source": [
    "## Utility"
   ]
  },
  {
   "cell_type": "code",
   "execution_count": null,
   "id": "f44adb1d",
   "metadata": {},
   "outputs": [],
   "source": [
    "def note_time():\n",
    "    timestr = time.strftime(\"%Y%m%d-%H%M%S\")\n",
    "    #\n",
    "    with open(\"time.txt\", \"w\") as time_out:\n",
    "        time_out.write(timestr)\n",
    "\n",
    "def check_remaining(github, MIN_REMAINING = 10):\n",
    "    note_time()\n",
    "    if github.get_rate_limit().raw_data[\"core\"][\"remaining\"] < MIN_REMAINING:\n",
    "        time.sleep(3650)"
   ]
  },
  {
   "cell_type": "markdown",
   "id": "4c3a1752",
   "metadata": {},
   "source": [
    "## Basic analysis"
   ]
  },
  {
   "cell_type": "code",
   "execution_count": null,
   "id": "7a78a07f",
   "metadata": {},
   "outputs": [],
   "source": [
    "with open(ISSUE_DATA_FILE, \"r\") as f_in:\n",
    "    for line in f_in:\n",
    "        data = jsonpickle.decode(line)"
   ]
  },
  {
   "cell_type": "code",
   "execution_count": null,
   "id": "ed586fc5",
   "metadata": {},
   "outputs": [],
   "source": [
    "print(f\"Number of repos: {len(data)}\")"
   ]
  },
  {
   "cell_type": "markdown",
   "id": "59cb04f6",
   "metadata": {},
   "source": [
    "## Filter repos by language"
   ]
  },
  {
   "cell_type": "code",
   "execution_count": null,
   "id": "aef55c06",
   "metadata": {},
   "outputs": [],
   "source": [
    "for repo in data:\n",
    "    if repo[\"language\"] in LANGUAGES:\n",
    "        print(repo['name'])"
   ]
  },
  {
   "cell_type": "markdown",
   "id": "f08ea496",
   "metadata": {},
   "source": [
    "## GitHub"
   ]
  },
  {
   "cell_type": "code",
   "execution_count": null,
   "id": "8b02b152",
   "metadata": {},
   "outputs": [],
   "source": [
    "GITHUB_ACCESS_TOKEN = \"\""
   ]
  },
  {
   "cell_type": "code",
   "execution_count": null,
   "id": "f8443075",
   "metadata": {},
   "outputs": [],
   "source": [
    "github = Github(GITHUB_ACCESS_TOKEN)"
   ]
  },
  {
   "cell_type": "code",
   "execution_count": null,
   "id": "e86161c1",
   "metadata": {},
   "outputs": [],
   "source": [
    "for repo_id, repo in enumerate(data):\n",
    "    repos_commit_data = {}\n",
    "    LAST_ERROR = None    \n",
    "    try:\n",
    "        print(f\"{repo['name']} -- {repo_id + 1}/{len(data)}\")\n",
    "        #\n",
    "        if repo[\"language\"] not in LANGUAGES:\n",
    "            continue\n",
    "        check_remaining(github)\n",
    "        #\n",
    "        gh_repo_access = github.get_repo(repo[\"name\"])\n",
    "        #\n",
    "        repos_commit_data[repo[\"name\"]] = {}\n",
    "        repos_commit_data[repo[\"name\"]][\"commits\"] = []\n",
    "        #\n",
    "        commits = gh_repo_access.get_commits()\n",
    "        #\n",
    "        for commit_id, commit in enumerate(commits):\n",
    "            try:\n",
    "                if (commit_id+1) % COMMIT_PRINT_FREQ == 0:\n",
    "                    timestr = time.strftime(\"%Y-%m-%d %H:%M:%S\")\n",
    "                    print(f\"\\t{timestr}: {commit_id+1}/{commits.totalCount}\")\n",
    "                #\n",
    "                commit_data = {}\n",
    "                #\n",
    "                commit_data[\"sha\"] = commit.sha\n",
    "                commit_data[\"msg\"] = commit.commit.message\n",
    "                commit_data[\"date\"] = commit.commit.committer.date\n",
    "                commit_data[\"files\"] = []\n",
    "                #\n",
    "                for file in commit.files:\n",
    "                    try:\n",
    "                        acceptable = False\n",
    "                        for extension in FILE_EXTENSIONS:\n",
    "                            if file.filename.endswith(extension):\n",
    "                                acceptable = True\n",
    "                                break\n",
    "                        if not acceptable:\n",
    "                            continue\n",
    "                        #\n",
    "                        check_remaining(github)\n",
    "                        #\n",
    "                        file_data = {}\n",
    "                        #\n",
    "                        file_data[\"sha\"] = file.sha\n",
    "                        file_data[\"name\"] = file.filename\n",
    "                        file_data[\"change_cnt\"] = file.changes\n",
    "                        file_data[\"add_cnt\"] = file.additions\n",
    "                        file_data[\"del_cnt\"] = file.deletions\n",
    "                        file_data[\"content\"] = None\n",
    "                        #\n",
    "                        try:\n",
    "                            check_remaining(github)\n",
    "                            #\n",
    "                            file_content_package = gh_repo_access.get_git_blob(file.sha)\n",
    "                            file_data[\"content\"] = file_content_package.content\n",
    "                            file_data[\"content_encoding\"] = file_content_package.encoding\n",
    "                        except Exception as e:\n",
    "                            LAST_ERROR = e\n",
    "                            print(LAST_ERROR)\n",
    "                        #\n",
    "                        commit_data[\"files\"].append(file_data)\n",
    "                    except Exception as e:\n",
    "                        LAST_ERROR = e\n",
    "                        print(LAST_ERROR)\n",
    "                #\n",
    "                repos_commit_data[repo[\"name\"]][\"commits\"].append(commit_data)\n",
    "            except Exception as e:\n",
    "                LAST_ERROR = e\n",
    "                print(LAST_ERROR)\n",
    "        #\n",
    "        data_json = jsonpickle.encode(repos_commit_data)\n",
    "        with open(f\"commit_data_{repo_id}.json\", \"w\") as out:\n",
    "            out.write(data_json)            \n",
    "        #\n",
    "    except Exception as e:\n",
    "        LAST_ERROR = e\n",
    "        print(LAST_ERROR)\n"
   ]
  },
  {
   "cell_type": "code",
   "execution_count": null,
   "id": "788efb8c",
   "metadata": {},
   "outputs": [],
   "source": []
  },
  {
   "cell_type": "code",
   "execution_count": null,
   "id": "683a615b",
   "metadata": {},
   "outputs": [],
   "source": []
  }
 ],
 "metadata": {
  "kernelspec": {
   "display_name": "Python 3",
   "language": "python",
   "name": "python3"
  },
  "language_info": {
   "codemirror_mode": {
    "name": "ipython",
    "version": 3
   },
   "file_extension": ".py",
   "mimetype": "text/x-python",
   "name": "python",
   "nbconvert_exporter": "python",
   "pygments_lexer": "ipython3",
   "version": "3.8.10"
  }
 },
 "nbformat": 4,
 "nbformat_minor": 5
}
