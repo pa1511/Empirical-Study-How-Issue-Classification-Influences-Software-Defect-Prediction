{
 "cells": [
  {
   "cell_type": "markdown",
   "id": "7b153f73",
   "metadata": {},
   "source": [
    "## Imports"
   ]
  },
  {
   "cell_type": "code",
   "execution_count": null,
   "id": "cac1d32d",
   "metadata": {},
   "outputs": [],
   "source": [
    "import time\n",
    "import jsonpickle\n",
    "from github import Github"
   ]
  },
  {
   "cell_type": "markdown",
   "id": "e2e44c42",
   "metadata": {},
   "source": [
    "## Utility"
   ]
  },
  {
   "cell_type": "code",
   "execution_count": null,
   "id": "7cee3dea",
   "metadata": {},
   "outputs": [],
   "source": [
    "def note_time():\n",
    "    timestr = time.strftime(\"%Y%m%d-%H%M%S\")\n",
    "    #\n",
    "    with open(\"time.txt\", \"w\") as time_out:\n",
    "        time_out.write(timestr)\n",
    "\n",
    "def check_remaining(github, MIN_REMAINING = 10):\n",
    "    note_time()\n",
    "    if github.get_rate_limit().raw_data[\"core\"][\"remaining\"] < MIN_REMAINING:\n",
    "        time.sleep(3650)"
   ]
  },
  {
   "cell_type": "markdown",
   "id": "b9dea510",
   "metadata": {},
   "source": [
    "## Connect to GitHub"
   ]
  },
  {
   "cell_type": "code",
   "execution_count": null,
   "id": "ac19d811",
   "metadata": {},
   "outputs": [],
   "source": [
    "GITHUB_ACCESS_TOKEN = \"\""
   ]
  },
  {
   "cell_type": "code",
   "execution_count": null,
   "id": "691a6225",
   "metadata": {},
   "outputs": [],
   "source": [
    "github = Github(GITHUB_ACCESS_TOKEN)"
   ]
  },
  {
   "cell_type": "code",
   "execution_count": null,
   "id": "8469d1c1",
   "metadata": {},
   "outputs": [],
   "source": [
    "check_remaining(github)"
   ]
  },
  {
   "cell_type": "markdown",
   "id": "03a37f19",
   "metadata": {},
   "source": [
    "## Search for popular repositories with good first issues"
   ]
  },
  {
   "cell_type": "code",
   "execution_count": null,
   "id": "6c1b4906",
   "metadata": {},
   "outputs": [],
   "source": [
    "FIRST_GOOD_CNT = 5"
   ]
  },
  {
   "cell_type": "code",
   "execution_count": null,
   "id": "af67e6c9",
   "metadata": {},
   "outputs": [],
   "source": [
    "repositories = github.search_repositories(query='good-first-issues:>' + str(FIRST_GOOD_CNT))"
   ]
  },
  {
   "cell_type": "code",
   "execution_count": null,
   "id": "649e8e49",
   "metadata": {},
   "outputs": [],
   "source": [
    "check_remaining(github)"
   ]
  },
  {
   "cell_type": "code",
   "execution_count": null,
   "id": "64fd0fe6",
   "metadata": {},
   "outputs": [],
   "source": [
    "MAX_REPO_CNT = 100\n",
    "#\n",
    "MIN_STAR_CNT = 50\n",
    "MIN_ISSUE_CNT = 100"
   ]
  },
  {
   "cell_type": "code",
   "execution_count": null,
   "id": "580d8be2",
   "metadata": {},
   "outputs": [],
   "source": [
    "repos_of_interest = []\n",
    "for i, repo in enumerate(repositories):\n",
    "    check_remaining(github)\n",
    "    if repo.stargazers_count >= MIN_STAR_CNT:\n",
    "        issue_cnt = 0\n",
    "        for issue in repo.get_issues():\n",
    "            check_remaining(github)\n",
    "            issue_cnt = issue_cnt + 1\n",
    "            if issue_cnt >= MIN_ISSUE_CNT:\n",
    "                repos_of_interest.append(repo)\n",
    "                break\n",
    "    if i >= MAX_REPO_CNT:\n",
    "        break\n",
    "    check_remaining(github)"
   ]
  },
  {
   "cell_type": "code",
   "execution_count": null,
   "id": "931ef210",
   "metadata": {},
   "outputs": [],
   "source": [
    "print(\"Number of collected repos: \", len(repos_of_interest))"
   ]
  },
  {
   "cell_type": "markdown",
   "id": "6a2a2830",
   "metadata": {},
   "source": [
    "## Manually set repos of interest"
   ]
  },
  {
   "cell_type": "code",
   "execution_count": null,
   "id": "d3aaccc5",
   "metadata": {},
   "outputs": [],
   "source": [
    "\"\"\"\n",
    "repo_names = [\"ytdl-org/youtube-dl\", \n",
    "              \"facebook/react-native\",\n",
    "              \"kubernetes/kubernetes\",\n",
    "              \"vercel/next.js\",\n",
    "              \"nodejs/node\",\n",
    "              \"mui/material-ui\",\n",
    "              \"huggingface/transformers\",\n",
    "              \"elastic/elasticsearch\",\n",
    "              \"gatsbyjs/gatsby\",\n",
    "              \"scikit-learn/scikit-learn\"]\n",
    "\"\"\""
   ]
  },
  {
   "cell_type": "code",
   "execution_count": null,
   "id": "3a340e35",
   "metadata": {},
   "outputs": [],
   "source": [
    "repos_of_interest = []\n",
    "for repo_name in repo_names:\n",
    "    repo = github.get_repo(repo_name)\n",
    "    repos_of_interest.append(repo)"
   ]
  },
  {
   "cell_type": "markdown",
   "id": "9788fddb",
   "metadata": {},
   "source": [
    "## Collect and store data"
   ]
  },
  {
   "cell_type": "code",
   "execution_count": null,
   "id": "377cb88a",
   "metadata": {},
   "outputs": [],
   "source": [
    "print(len(repos_of_interest))"
   ]
  },
  {
   "cell_type": "code",
   "execution_count": null,
   "id": "42b765f3",
   "metadata": {},
   "outputs": [],
   "source": [
    "data = []"
   ]
  },
  {
   "cell_type": "code",
   "execution_count": null,
   "id": "609a9257",
   "metadata": {},
   "outputs": [],
   "source": [
    "LAST_ERROR = None"
   ]
  },
  {
   "cell_type": "code",
   "execution_count": null,
   "id": "bf28d1f3",
   "metadata": {},
   "outputs": [],
   "source": [
    "for repo in repos_of_interest:\n",
    "    try:\n",
    "        print(repo.full_name, \"--->\", repo.stargazers_count, \"--->\", repo.language)\n",
    "        check_remaining(github)\n",
    "        #\n",
    "        repo_data = {}\n",
    "        repo_data[\"name\"] = repo.full_name\n",
    "        repo_data[\"star\"] = repo.stargazers_count\n",
    "        repo_data[\"language\"] = repo.language\n",
    "        repo_data[\"issues\"] = []\n",
    "        for issue in repo.get_issues(state=\"all\"):# very important to set state -> default is open only\n",
    "            try:\n",
    "                check_remaining(github)\n",
    "                #\n",
    "                issue_data = {\"id\": issue.id,\n",
    "                              \"title\": issue.title,\n",
    "                              \"number\": issue.number,\n",
    "                              \"html_url\": issue.html_url,\n",
    "                              \"body\": issue.body, \n",
    "                              \"labels\": [lbl.name for lbl in issue.labels],\n",
    "                              \"comment cnt\": issue.comments,\n",
    "                              \"comments\": [],\n",
    "                              \"has_pull_request\": issue.pull_request is not None}\n",
    "                repo_data[\"issues\"].append(issue_data)\n",
    "            except Exception as e:\n",
    "                LAST_ERROR = e\n",
    "        #\n",
    "        data.append(repo_data)\n",
    "        #\n",
    "        check_remaining(github)\n",
    "    except Exception as e:\n",
    "        LAST_ERROR = e       "
   ]
  },
  {
   "cell_type": "code",
   "execution_count": null,
   "id": "8b1a10bc",
   "metadata": {},
   "outputs": [],
   "source": [
    "print(LAST_ERROR)"
   ]
  },
  {
   "cell_type": "code",
   "execution_count": null,
   "id": "053441f5",
   "metadata": {},
   "outputs": [],
   "source": [
    "data_json = jsonpickle.encode(data)\n",
    "with open(\"issue-data.json\", \"w\") as out:\n",
    "    out.write(data_json)"
   ]
  },
  {
   "cell_type": "code",
   "execution_count": null,
   "id": "691748e0",
   "metadata": {},
   "outputs": [],
   "source": []
  }
 ],
 "metadata": {
  "kernelspec": {
   "display_name": "Python 3",
   "language": "python",
   "name": "python3"
  },
  "language_info": {
   "codemirror_mode": {
    "name": "ipython",
    "version": 3
   },
   "file_extension": ".py",
   "mimetype": "text/x-python",
   "name": "python",
   "nbconvert_exporter": "python",
   "pygments_lexer": "ipython3",
   "version": "3.8.10"
  }
 },
 "nbformat": 4,
 "nbformat_minor": 5
}
